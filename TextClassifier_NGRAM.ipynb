{
  "cells": [
    {
      "cell_type": "code",
      "execution_count": 1,
      "metadata": {
        "id": "7x24bkJ1k8u0"
      },
      "outputs": [],
      "source": [
        "import pandas as pd\n",
        "import re\n",
        "import numpy as np\n",
        "import math\n",
        "import string\n",
        "from sklearn.metrics import precision_score, accuracy_score, recall_score, f1_score"
      ]
    },
    {
      "cell_type": "code",
      "source": [
        "file_location = 'Statements.xlsx'\n",
        "df = pd.read_excel(file_location)\n",
        "df['inFormalForm'] = df['inFormalForm'].apply(str)\n",
        "df['FormalForm'] = df['FormalForm'].apply(str)\n",
        "df.head()"
      ],
      "metadata": {
        "colab": {
          "base_uri": "https://localhost:8080/",
          "height": 275
        },
        "id": "nZBr-tc0hHO3",
        "outputId": "7c7bf773-44a9-4083-9c86-f5cd8a0d4253"
      },
      "execution_count": 4,
      "outputs": [
        {
          "output_type": "execute_result",
          "data": {
            "text/plain": [
              "                                        inFormalForm  \\\n",
              "0                    من دوس دارم برم خونه درس بخونم.   \n",
              "1             میتونی منو ببری خونمون یکم نون وردارم؟   \n",
              "2   رفتم درمونگاه واسه بچم دوا بگیرم، یهو بارون گرفت   \n",
              "3                     اون که خدا شاهده مث دیوونه هاس   \n",
              "4  یه سری آدما هستن که هر قدر خوبی کنی اصلن انگار...   \n",
              "\n",
              "                                          FormalForm  \\\n",
              "0        من دوست دارم که به خانه بروم تا درس بخوانم.   \n",
              "1  می‌توانی من را به خانه‌مان ببری تا کمی نان برد...   \n",
              "2  به درمانگاه رفتم تا برای بچه‌ام دوا بگیرم که ی...   \n",
              "3              خدا شاهد است که او مثل دیوانه‌ها است.   \n",
              "4  یک سری آدم‌ها هستند که هر قدر هم خوبی کنی، اصل...   \n",
              "\n",
              "                                         formalWords  \\\n",
              "0                  من/دوست/دارم/بروم/خانه/درس/بخوانم   \n",
              "1        می‌توانی/من را/ببری/خانه‌مان/کمی/نان/بردارم   \n",
              "2  رفتم/درمانگاه/برای/بچه‌ام/دوا/بگیرم/یکهو/باران...   \n",
              "3               شاهد است/او/که/خدا/مثل/دیوانه‌ها است   \n",
              "4  یک/سری/آدم‌ها/هستند/که/هر/قدر/خوبی/کنی/اصلاً/ا...   \n",
              "\n",
              "                                       inFormalWords source  \n",
              "0                     من/دوس/دارم/برم/خونه/درس/بخونم   خودم  \n",
              "1              میتونی/منو/ببری/خونمون/یکم/نون/وردارم   خودم  \n",
              "2    رفتم/درمونگاه/واسه/بچم/دوا/بگیرم/یهو/بارون/گرفت   خودم  \n",
              "3                     شاهده/اون/که/خدا/مث/دیوونه هاس     وب  \n",
              "4  یه/سری/آدما/هستن/که/هر/قدر/خوبی/کنی/اصلن/انگار...   خودم  "
            ],
            "text/html": [
              "\n",
              "  <div id=\"df-4918854a-cedc-4049-919c-082cfccf02f2\" class=\"colab-df-container\">\n",
              "    <div>\n",
              "<style scoped>\n",
              "    .dataframe tbody tr th:only-of-type {\n",
              "        vertical-align: middle;\n",
              "    }\n",
              "\n",
              "    .dataframe tbody tr th {\n",
              "        vertical-align: top;\n",
              "    }\n",
              "\n",
              "    .dataframe thead th {\n",
              "        text-align: right;\n",
              "    }\n",
              "</style>\n",
              "<table border=\"1\" class=\"dataframe\">\n",
              "  <thead>\n",
              "    <tr style=\"text-align: right;\">\n",
              "      <th></th>\n",
              "      <th>inFormalForm</th>\n",
              "      <th>FormalForm</th>\n",
              "      <th>formalWords</th>\n",
              "      <th>inFormalWords</th>\n",
              "      <th>source</th>\n",
              "    </tr>\n",
              "  </thead>\n",
              "  <tbody>\n",
              "    <tr>\n",
              "      <th>0</th>\n",
              "      <td>من دوس دارم برم خونه درس بخونم.</td>\n",
              "      <td>من دوست دارم که به خانه بروم تا درس بخوانم.</td>\n",
              "      <td>من/دوست/دارم/بروم/خانه/درس/بخوانم</td>\n",
              "      <td>من/دوس/دارم/برم/خونه/درس/بخونم</td>\n",
              "      <td>خودم</td>\n",
              "    </tr>\n",
              "    <tr>\n",
              "      <th>1</th>\n",
              "      <td>میتونی منو ببری خونمون یکم نون وردارم؟</td>\n",
              "      <td>می‌توانی من را به خانه‌مان ببری تا کمی نان برد...</td>\n",
              "      <td>می‌توانی/من را/ببری/خانه‌مان/کمی/نان/بردارم</td>\n",
              "      <td>میتونی/منو/ببری/خونمون/یکم/نون/وردارم</td>\n",
              "      <td>خودم</td>\n",
              "    </tr>\n",
              "    <tr>\n",
              "      <th>2</th>\n",
              "      <td>رفتم درمونگاه واسه بچم دوا بگیرم، یهو بارون گرفت</td>\n",
              "      <td>به درمانگاه رفتم تا برای بچه‌ام دوا بگیرم که ی...</td>\n",
              "      <td>رفتم/درمانگاه/برای/بچه‌ام/دوا/بگیرم/یکهو/باران...</td>\n",
              "      <td>رفتم/درمونگاه/واسه/بچم/دوا/بگیرم/یهو/بارون/گرفت</td>\n",
              "      <td>خودم</td>\n",
              "    </tr>\n",
              "    <tr>\n",
              "      <th>3</th>\n",
              "      <td>اون که خدا شاهده مث دیوونه هاس</td>\n",
              "      <td>خدا شاهد است که او مثل دیوانه‌ها است.</td>\n",
              "      <td>شاهد است/او/که/خدا/مثل/دیوانه‌ها است</td>\n",
              "      <td>شاهده/اون/که/خدا/مث/دیوونه هاس</td>\n",
              "      <td>وب</td>\n",
              "    </tr>\n",
              "    <tr>\n",
              "      <th>4</th>\n",
              "      <td>یه سری آدما هستن که هر قدر خوبی کنی اصلن انگار...</td>\n",
              "      <td>یک سری آدم‌ها هستند که هر قدر هم خوبی کنی، اصل...</td>\n",
              "      <td>یک/سری/آدم‌ها/هستند/که/هر/قدر/خوبی/کنی/اصلاً/ا...</td>\n",
              "      <td>یه/سری/آدما/هستن/که/هر/قدر/خوبی/کنی/اصلن/انگار...</td>\n",
              "      <td>خودم</td>\n",
              "    </tr>\n",
              "  </tbody>\n",
              "</table>\n",
              "</div>\n",
              "    <div class=\"colab-df-buttons\">\n",
              "\n",
              "  <div class=\"colab-df-container\">\n",
              "    <button class=\"colab-df-convert\" onclick=\"convertToInteractive('df-4918854a-cedc-4049-919c-082cfccf02f2')\"\n",
              "            title=\"Convert this dataframe to an interactive table.\"\n",
              "            style=\"display:none;\">\n",
              "\n",
              "  <svg xmlns=\"http://www.w3.org/2000/svg\" height=\"24px\" viewBox=\"0 -960 960 960\">\n",
              "    <path d=\"M120-120v-720h720v720H120Zm60-500h600v-160H180v160Zm220 220h160v-160H400v160Zm0 220h160v-160H400v160ZM180-400h160v-160H180v160Zm440 0h160v-160H620v160ZM180-180h160v-160H180v160Zm440 0h160v-160H620v160Z\"/>\n",
              "  </svg>\n",
              "    </button>\n",
              "\n",
              "  <style>\n",
              "    .colab-df-container {\n",
              "      display:flex;\n",
              "      gap: 12px;\n",
              "    }\n",
              "\n",
              "    .colab-df-convert {\n",
              "      background-color: #E8F0FE;\n",
              "      border: none;\n",
              "      border-radius: 50%;\n",
              "      cursor: pointer;\n",
              "      display: none;\n",
              "      fill: #1967D2;\n",
              "      height: 32px;\n",
              "      padding: 0 0 0 0;\n",
              "      width: 32px;\n",
              "    }\n",
              "\n",
              "    .colab-df-convert:hover {\n",
              "      background-color: #E2EBFA;\n",
              "      box-shadow: 0px 1px 2px rgba(60, 64, 67, 0.3), 0px 1px 3px 1px rgba(60, 64, 67, 0.15);\n",
              "      fill: #174EA6;\n",
              "    }\n",
              "\n",
              "    .colab-df-buttons div {\n",
              "      margin-bottom: 4px;\n",
              "    }\n",
              "\n",
              "    [theme=dark] .colab-df-convert {\n",
              "      background-color: #3B4455;\n",
              "      fill: #D2E3FC;\n",
              "    }\n",
              "\n",
              "    [theme=dark] .colab-df-convert:hover {\n",
              "      background-color: #434B5C;\n",
              "      box-shadow: 0px 1px 3px 1px rgba(0, 0, 0, 0.15);\n",
              "      filter: drop-shadow(0px 1px 2px rgba(0, 0, 0, 0.3));\n",
              "      fill: #FFFFFF;\n",
              "    }\n",
              "  </style>\n",
              "\n",
              "    <script>\n",
              "      const buttonEl =\n",
              "        document.querySelector('#df-4918854a-cedc-4049-919c-082cfccf02f2 button.colab-df-convert');\n",
              "      buttonEl.style.display =\n",
              "        google.colab.kernel.accessAllowed ? 'block' : 'none';\n",
              "\n",
              "      async function convertToInteractive(key) {\n",
              "        const element = document.querySelector('#df-4918854a-cedc-4049-919c-082cfccf02f2');\n",
              "        const dataTable =\n",
              "          await google.colab.kernel.invokeFunction('convertToInteractive',\n",
              "                                                    [key], {});\n",
              "        if (!dataTable) return;\n",
              "\n",
              "        const docLinkHtml = 'Like what you see? Visit the ' +\n",
              "          '<a target=\"_blank\" href=https://colab.research.google.com/notebooks/data_table.ipynb>data table notebook</a>'\n",
              "          + ' to learn more about interactive tables.';\n",
              "        element.innerHTML = '';\n",
              "        dataTable['output_type'] = 'display_data';\n",
              "        await google.colab.output.renderOutput(dataTable, element);\n",
              "        const docLink = document.createElement('div');\n",
              "        docLink.innerHTML = docLinkHtml;\n",
              "        element.appendChild(docLink);\n",
              "      }\n",
              "    </script>\n",
              "  </div>\n",
              "\n",
              "\n",
              "<div id=\"df-ef9eba9f-15b8-4251-aaa5-9c29c1a99b44\">\n",
              "  <button class=\"colab-df-quickchart\" onclick=\"quickchart('df-ef9eba9f-15b8-4251-aaa5-9c29c1a99b44')\"\n",
              "            title=\"Suggest charts\"\n",
              "            style=\"display:none;\">\n",
              "\n",
              "<svg xmlns=\"http://www.w3.org/2000/svg\" height=\"24px\"viewBox=\"0 0 24 24\"\n",
              "     width=\"24px\">\n",
              "    <g>\n",
              "        <path d=\"M19 3H5c-1.1 0-2 .9-2 2v14c0 1.1.9 2 2 2h14c1.1 0 2-.9 2-2V5c0-1.1-.9-2-2-2zM9 17H7v-7h2v7zm4 0h-2V7h2v10zm4 0h-2v-4h2v4z\"/>\n",
              "    </g>\n",
              "</svg>\n",
              "  </button>\n",
              "\n",
              "<style>\n",
              "  .colab-df-quickchart {\n",
              "      --bg-color: #E8F0FE;\n",
              "      --fill-color: #1967D2;\n",
              "      --hover-bg-color: #E2EBFA;\n",
              "      --hover-fill-color: #174EA6;\n",
              "      --disabled-fill-color: #AAA;\n",
              "      --disabled-bg-color: #DDD;\n",
              "  }\n",
              "\n",
              "  [theme=dark] .colab-df-quickchart {\n",
              "      --bg-color: #3B4455;\n",
              "      --fill-color: #D2E3FC;\n",
              "      --hover-bg-color: #434B5C;\n",
              "      --hover-fill-color: #FFFFFF;\n",
              "      --disabled-bg-color: #3B4455;\n",
              "      --disabled-fill-color: #666;\n",
              "  }\n",
              "\n",
              "  .colab-df-quickchart {\n",
              "    background-color: var(--bg-color);\n",
              "    border: none;\n",
              "    border-radius: 50%;\n",
              "    cursor: pointer;\n",
              "    display: none;\n",
              "    fill: var(--fill-color);\n",
              "    height: 32px;\n",
              "    padding: 0;\n",
              "    width: 32px;\n",
              "  }\n",
              "\n",
              "  .colab-df-quickchart:hover {\n",
              "    background-color: var(--hover-bg-color);\n",
              "    box-shadow: 0 1px 2px rgba(60, 64, 67, 0.3), 0 1px 3px 1px rgba(60, 64, 67, 0.15);\n",
              "    fill: var(--button-hover-fill-color);\n",
              "  }\n",
              "\n",
              "  .colab-df-quickchart-complete:disabled,\n",
              "  .colab-df-quickchart-complete:disabled:hover {\n",
              "    background-color: var(--disabled-bg-color);\n",
              "    fill: var(--disabled-fill-color);\n",
              "    box-shadow: none;\n",
              "  }\n",
              "\n",
              "  .colab-df-spinner {\n",
              "    border: 2px solid var(--fill-color);\n",
              "    border-color: transparent;\n",
              "    border-bottom-color: var(--fill-color);\n",
              "    animation:\n",
              "      spin 1s steps(1) infinite;\n",
              "  }\n",
              "\n",
              "  @keyframes spin {\n",
              "    0% {\n",
              "      border-color: transparent;\n",
              "      border-bottom-color: var(--fill-color);\n",
              "      border-left-color: var(--fill-color);\n",
              "    }\n",
              "    20% {\n",
              "      border-color: transparent;\n",
              "      border-left-color: var(--fill-color);\n",
              "      border-top-color: var(--fill-color);\n",
              "    }\n",
              "    30% {\n",
              "      border-color: transparent;\n",
              "      border-left-color: var(--fill-color);\n",
              "      border-top-color: var(--fill-color);\n",
              "      border-right-color: var(--fill-color);\n",
              "    }\n",
              "    40% {\n",
              "      border-color: transparent;\n",
              "      border-right-color: var(--fill-color);\n",
              "      border-top-color: var(--fill-color);\n",
              "    }\n",
              "    60% {\n",
              "      border-color: transparent;\n",
              "      border-right-color: var(--fill-color);\n",
              "    }\n",
              "    80% {\n",
              "      border-color: transparent;\n",
              "      border-right-color: var(--fill-color);\n",
              "      border-bottom-color: var(--fill-color);\n",
              "    }\n",
              "    90% {\n",
              "      border-color: transparent;\n",
              "      border-bottom-color: var(--fill-color);\n",
              "    }\n",
              "  }\n",
              "</style>\n",
              "\n",
              "  <script>\n",
              "    async function quickchart(key) {\n",
              "      const quickchartButtonEl =\n",
              "        document.querySelector('#' + key + ' button');\n",
              "      quickchartButtonEl.disabled = true;  // To prevent multiple clicks.\n",
              "      quickchartButtonEl.classList.add('colab-df-spinner');\n",
              "      try {\n",
              "        const charts = await google.colab.kernel.invokeFunction(\n",
              "            'suggestCharts', [key], {});\n",
              "      } catch (error) {\n",
              "        console.error('Error during call to suggestCharts:', error);\n",
              "      }\n",
              "      quickchartButtonEl.classList.remove('colab-df-spinner');\n",
              "      quickchartButtonEl.classList.add('colab-df-quickchart-complete');\n",
              "    }\n",
              "    (() => {\n",
              "      let quickchartButtonEl =\n",
              "        document.querySelector('#df-ef9eba9f-15b8-4251-aaa5-9c29c1a99b44 button');\n",
              "      quickchartButtonEl.style.display =\n",
              "        google.colab.kernel.accessAllowed ? 'block' : 'none';\n",
              "    })();\n",
              "  </script>\n",
              "</div>\n",
              "    </div>\n",
              "  </div>\n"
            ],
            "application/vnd.google.colaboratory.intrinsic+json": {
              "type": "dataframe",
              "variable_name": "df",
              "summary": "{\n  \"name\": \"df\",\n  \"rows\": 50012,\n  \"fields\": [\n    {\n      \"column\": \"inFormalForm\",\n      \"properties\": {\n        \"dtype\": \"string\",\n        \"num_unique_values\": 50009,\n        \"samples\": [\n          \"\\u062a\\u0648 \\u062f\\u0646\\u06cc\\u0627 \\u06cc\\u06a9\\u06cc \\u0647\\u0633\\u062a \\u06a9\\u0647 \\u0641\\u0642\\u0637 \\u0628\\u0647 \\u062e\\u0627\\u0637\\u0631 \\u062a\\u0648 \\u0646\\u0641\\u0633 \\u0645\\u06cc \\u06a9\\u0634\\u0647 \\u060c \\u0627\\u0648\\u0646\\u0645 \\u062f\\u0645\\u0627\\u063a\\u062a\\u0647!\",\n          \"\\u0647\\u0645\\u0647 \\u06cc \\u0645\\u0631\\u062f\\u0627 \\u0648\\u0627\\u0633\\u0647 \\u0632\\u0646\\u06cc \\u06a9\\u0647 \\u0637\\u0644\\u0627\\u0642\\u0634 \\u062f\\u0627\\u062f\\u0646 \\u0627\\u0646\\u0642\\u062f\\u0631 \\u062e\\u0648\\u062f\\u0634\\u0648\\u0646\\u0648 \\u0628\\u0647 \\u0622\\u0628 \\u0648 \\u0627\\u062a\\u06cc\\u0634 \\u0645\\u06cc\\u0632\\u0646\\u0646\\u062f\\u061f\",\n          \"\\u062e\\u0648\\u0628\\u0627\\u0634\\u0648\\u0646 \\u0645\\u06cc\\u0631\\u0646 \\u0627\\u0631\\u0648\\u067e\\u0627 \\u0648 \\u0627\\u0631\\u0627\\u0632\\u0644 \\u0648 \\u0627\\u0648\\u0628\\u0627\\u0634\\u0634\\u0648\\u0646 \\u0645\\u06cc\\u0627\\u0646 \\u0627\\u06cc\\u0631\\u0627\\u0646.\"\n        ],\n        \"semantic_type\": \"\",\n        \"description\": \"\"\n      }\n    },\n    {\n      \"column\": \"FormalForm\",\n      \"properties\": {\n        \"dtype\": \"string\",\n        \"num_unique_values\": 49974,\n        \"samples\": [\n          \"\\u0627\\u0648 \\u0622\\u062f\\u0645 \\u062e\\u06cc\\u0644\\u06cc \\u0628\\u0627\\u0647\\u0648\\u0634\\u06cc \\u0627\\u0633\\u062a\\u060c \\u062e\\u0648\\u062f\\u0634 \\u0645\\u06cc\\u200c\\u0641\\u0647\\u0645\\u062f.\",\n          \"\\u0686\\u0631\\u0627\\u063a\\u200c\\u0647\\u0627 \\u0631\\u0627 \\u062e\\u0627\\u0645\\u0648\\u0634 \\u06a9\\u0646!\",\n          \"\\u0647\\u0645\\u06cc\\u0634\\u0647 \\u0628\\u06cc\\u0646 \\u0645\\u0627 \\u062c\\u0646\\u06af \\u0627\\u0633\\u062a.\"\n        ],\n        \"semantic_type\": \"\",\n        \"description\": \"\"\n      }\n    },\n    {\n      \"column\": \"formalWords\",\n      \"properties\": {\n        \"dtype\": \"string\",\n        \"num_unique_values\": 49963,\n        \"samples\": [\n          \"\\u0647\\u0645\\u062f\\u0631\\u062f\\u06cc/\\u0628\\u0631\\u0627\\u06cc/\\u067e\\u0633\\u0631\\u0647\\u0627/\\u0628\\u06cc\\u0634\\u062a\\u0631/\\u0628\\u062d\\u062b/\\u0645\\u0627\\u0644\\u06cc/\\u0648/\\u062d\\u0633/\\u0647\\u0645\\u06a9\\u0627\\u0631\\u06cc/\\u0648/\\u0648/\\u062a\\u0639\\u0627\\u0645\\u0644/\\u0645\\u0647\\u0645 \\u0627\\u0633\\u062a/\\u0648/\\u062e\\u0627\\u0646\\u0645\\u200c\\u0647\\u0627/\\u0631\\u0648\\u06cc/\\u0627\\u06cc\\u0646/\\u0645\\u0648\\u0636\\u0648\\u0639/\\u0628\\u06cc\\u0634\\u062a\\u0631/\\u0641\\u06a9\\u0631/\\u06a9\\u0646\\u0646\\u062f\",\n          \"\\u0627\\u062d\\u0633\\u0627\\u0646 \\u0647\\u0645/\\u0627\\u062e\\u0645\\u200c\\u0647\\u0627\\u06cc\\u0634/\\u062f\\u0631/\\u0647\\u0645/\\u0628\\u0648\\u062f\",\n          \"\\u06a9\\u0627\\u0631\\u0645 \\u0631\\u0627/\\u0628\\u06cc\\u0634/\\u0627\\u0632/\\u0622\\u0646\\u06a9\\u0647/\\u06cc\\u06a9/\\u062d\\u0631\\u0641\\u0647/\\u0628\\u062f\\u0627\\u0646\\u0645/\\u06cc\\u06a9/\\u0631\\u0633\\u0627\\u0644\\u062a/\\u0628\\u0631\\u0627\\u06cc/\\u062e\\u062f\\u0645\\u062a/\\u0628\\u0647/\\u062f\\u06cc\\u06af\\u0631\\u0627\\u0646/\\u062f\\u0627\\u0646\\u0633\\u062a\\u0647\\u200c\\u0627\\u0645\"\n        ],\n        \"semantic_type\": \"\",\n        \"description\": \"\"\n      }\n    },\n    {\n      \"column\": \"inFormalWords\",\n      \"properties\": {\n        \"dtype\": \"string\",\n        \"num_unique_values\": 49979,\n        \"samples\": [\n          \"\\u0627\\u0642\\u0627/\\u062e\\u062f\\u0627\\u06cc\\u06cc/\\u0627\\u0631\\u0627\\u0630\\u0644/\\u0627\\u0648\\u0628\\u0627\\u0634/\\u062f\\u0633\\u06af\\u06cc\\u0631/\\u0645\\u06cc\\u0634\\u0646/\\u0628\\u0627\\u0647\\u0627\\u0634\\u0648\\u0646/\\u0686\\u0647/\\u0645\\u06cc\\u06a9\\u0646\\u0646\",\n          \"\\u0645\\u0646/\\u062e\\u0648\\u062f\\u0645/\\u0645\\u06cc\\u0646\\u0648\\u06cc\\u0633\\u0645/\\u0627\\u062a\\u0641\\u0627\\u0642\\u0627/\\u0645\\u0639\\u0645\\u0648\\u0644\\u0627/\\u0648/\\u0648\\u0644\\u06cc/\\u062e\\u06cc\\u0644\\u06cc/\\u0645\\u06cc\\u0628\\u06cc\\u0646\\u0645/\\u062a\\u0647\\u0634\\u0648\\u0646/\\u0646\\u0648\\u0646/\\u0645\\u06cc\\u0646\\u0648\\u06cc\\u0633\\u0646\",\n          \"\\u0645\\u0646/\\u0645\\u0648\\u0647\\u0627\\u0645/\\u062e\\u06cc\\u0644\\u06cc/\\u062f\\u0627\\u063a\\u0648\\u0646/\\u0634\\u062f\\u0647/\\u0628\\u0648\\u062f/\\u062f\\u06cc\\u06af\\u0647\"\n        ],\n        \"semantic_type\": \"\",\n        \"description\": \"\"\n      }\n    },\n    {\n      \"column\": \"source\",\n      \"properties\": {\n        \"dtype\": \"category\",\n        \"num_unique_values\": 8,\n        \"samples\": [\n          \"\\u0648\\u0628\",\n          \"\\u0648\\u0628\\u0644\\u0627\\u06af\",\n          \"\\u062e\\u0648\\u062f\\u0645\"\n        ],\n        \"semantic_type\": \"\",\n        \"description\": \"\"\n      }\n    }\n  ]\n}"
            }
          },
          "metadata": {},
          "execution_count": 4
        }
      ]
    },
    {
      "cell_type": "code",
      "source": [
        "formalForm = df['FormalForm']\n",
        "inFormalForm = df['inFormalForm']\n",
        "exclude = set(string.punctuation) # Set of all special characters\n",
        "remove_digits = str.maketrans('', '', string.digits) # Set of all digits\n",
        "\n",
        "def preprocess_sentences(sent):\n",
        "  wierd_pattern = re.compile(\"[\"\n",
        "      u\"\\U0001F600-\\U0001F64F\"  # emojis\n",
        "      u\"\\U0001F300-\\U0001F5FF\"  # symbols & pictographs\n",
        "      u\"\\U0001F680-\\U0001F6FF\"  # transport & map symbols\n",
        "      u\"\\U0001F1E0-\\U0001F1FF\"  # flags (iOS)\n",
        "      u\"\\U00002702-\\U000027B0\"\n",
        "      u\"\\U000024C2-\\U0001F251\"\n",
        "      u\"\\U0001f926-\\U0001f937\"\n",
        "      u'\\U00010000-\\U0010ffff'\n",
        "      u\"\\u200d\"\n",
        "      u\"\\u2640-\\u2642\"\n",
        "      u\"\\u2600-\\u2B55\"\n",
        "      u\"\\u23cf\" #Unicode Character 'EJECT SYMBOL'\n",
        "      u\"\\u23e9\" #Unicode Character 'BLACK RIGHT-POINTING DOUBLE TRIANGLE'\n",
        "      u\"\\u231a\" #Unicode Character 'WATCH'\n",
        "      u\"\\u3030\" #Unicode Character 'WAVY DASH'\n",
        "      u\"\\ufe0f\" #Unicode VARIATION SELECTOR-16\n",
        "      u\"\\u2069\" #Unicode Character 'POP DIRECTIONAL ISOLATE'\n",
        "      u\"\\u2066\" #Unicode Character 'LEFT-TO-RIGHT ISOLATE'\n",
        "      u\"\\u2068\" #Unicode Character 'FIRST STRONG ISOLATE'\n",
        "      u\"\\u2067\" #Unicode Character 'RIGHT-TO-LEFT ISOLATE'\n",
        "      \"]+\", flags=re.UNICODE)\n",
        "\n",
        "  sent = wierd_pattern.sub(r'', sent)\n",
        "  sent = re.sub(\"\\u200c\", \" \", sent)\n",
        "  sent = re.sub(\"'\", '', sent)\n",
        "  sent = ''.join(ch for ch in sent if ch not in exclude)\n",
        "  sent = sent.translate(remove_digits)\n",
        "  sent = sent.strip()\n",
        "  sent = re.sub(\" +\", \" \", sent)\n",
        "  #sent = '<شروع> ' + sent + ' <پایان>'\n",
        "  return sent"
      ],
      "metadata": {
        "id": "uvdsnUvghTWb"
      },
      "execution_count": 5,
      "outputs": []
    },
    {
      "cell_type": "code",
      "source": [
        "all_sent, label = [], []\n",
        "for i in range(0,len(formalForm)):\n",
        "    informalForm_sent = preprocess_sentences(inFormalForm[i])\n",
        "    formalForm_sent = preprocess_sentences(formalForm[i])\n",
        "    leng = len(informalForm_sent.split())\n",
        "    if leng < 20 :\n",
        "      all_sent.append(informalForm_sent)\n",
        "      label.append('informal')\n",
        "      all_sent.append(formalForm_sent)\n",
        "      label.append('formal')\n",
        "print(len(all_sent))"
      ],
      "metadata": {
        "colab": {
          "base_uri": "https://localhost:8080/"
        },
        "id": "HbiFCe-ihlVg",
        "outputId": "260e188e-56a4-41e6-abc3-809c5362e850"
      },
      "execution_count": 6,
      "outputs": [
        {
          "output_type": "stream",
          "name": "stdout",
          "text": [
            "89028\n"
          ]
        }
      ]
    },
    {
      "cell_type": "code",
      "source": [
        "percentile_list = pd.DataFrame(\n",
        "    {'text': all_sent,\n",
        "     'label': label\n",
        "    })\n",
        "percentile_list"
      ],
      "metadata": {
        "colab": {
          "base_uri": "https://localhost:8080/",
          "height": 423
        },
        "id": "LKW9hPrfjPH2",
        "outputId": "e99deea0-13aa-4cbd-932d-0371927327c5"
      },
      "execution_count": 7,
      "outputs": [
        {
          "output_type": "execute_result",
          "data": {
            "text/plain": [
              "                                                    text     label\n",
              "0                         من دوس دارم برم خونه درس بخونم  informal\n",
              "1             من دوست دارم که به خانه بروم تا درس بخوانم    formal\n",
              "2                 میتونی منو ببری خونمون یکم نون وردارم؟  informal\n",
              "3      می توانی من را به خانه مان ببری تا کمی نان برد...    formal\n",
              "4       رفتم درمونگاه واسه بچم دوا بگیرم، یهو بارون گرفت  informal\n",
              "...                                                  ...       ...\n",
              "89023                          آن روز هم به تو زحمت دادم    formal\n",
              "89024                                خیلیشم میریزه بیرون  informal\n",
              "89025                     خیلی از آن را هم بیرون می ریزد    formal\n",
              "89026                               بابام جان مریض میشیا  informal\n",
              "89027                              بابا جانم مریض می شوی    formal\n",
              "\n",
              "[89028 rows x 2 columns]"
            ],
            "text/html": [
              "\n",
              "  <div id=\"df-4ccc20af-bb1e-499d-8bc3-8111ef8a543f\" class=\"colab-df-container\">\n",
              "    <div>\n",
              "<style scoped>\n",
              "    .dataframe tbody tr th:only-of-type {\n",
              "        vertical-align: middle;\n",
              "    }\n",
              "\n",
              "    .dataframe tbody tr th {\n",
              "        vertical-align: top;\n",
              "    }\n",
              "\n",
              "    .dataframe thead th {\n",
              "        text-align: right;\n",
              "    }\n",
              "</style>\n",
              "<table border=\"1\" class=\"dataframe\">\n",
              "  <thead>\n",
              "    <tr style=\"text-align: right;\">\n",
              "      <th></th>\n",
              "      <th>text</th>\n",
              "      <th>label</th>\n",
              "    </tr>\n",
              "  </thead>\n",
              "  <tbody>\n",
              "    <tr>\n",
              "      <th>0</th>\n",
              "      <td>من دوس دارم برم خونه درس بخونم</td>\n",
              "      <td>informal</td>\n",
              "    </tr>\n",
              "    <tr>\n",
              "      <th>1</th>\n",
              "      <td>من دوست دارم که به خانه بروم تا درس بخوانم</td>\n",
              "      <td>formal</td>\n",
              "    </tr>\n",
              "    <tr>\n",
              "      <th>2</th>\n",
              "      <td>میتونی منو ببری خونمون یکم نون وردارم؟</td>\n",
              "      <td>informal</td>\n",
              "    </tr>\n",
              "    <tr>\n",
              "      <th>3</th>\n",
              "      <td>می توانی من را به خانه مان ببری تا کمی نان برد...</td>\n",
              "      <td>formal</td>\n",
              "    </tr>\n",
              "    <tr>\n",
              "      <th>4</th>\n",
              "      <td>رفتم درمونگاه واسه بچم دوا بگیرم، یهو بارون گرفت</td>\n",
              "      <td>informal</td>\n",
              "    </tr>\n",
              "    <tr>\n",
              "      <th>...</th>\n",
              "      <td>...</td>\n",
              "      <td>...</td>\n",
              "    </tr>\n",
              "    <tr>\n",
              "      <th>89023</th>\n",
              "      <td>آن روز هم به تو زحمت دادم</td>\n",
              "      <td>formal</td>\n",
              "    </tr>\n",
              "    <tr>\n",
              "      <th>89024</th>\n",
              "      <td>خیلیشم میریزه بیرون</td>\n",
              "      <td>informal</td>\n",
              "    </tr>\n",
              "    <tr>\n",
              "      <th>89025</th>\n",
              "      <td>خیلی از آن را هم بیرون می ریزد</td>\n",
              "      <td>formal</td>\n",
              "    </tr>\n",
              "    <tr>\n",
              "      <th>89026</th>\n",
              "      <td>بابام جان مریض میشیا</td>\n",
              "      <td>informal</td>\n",
              "    </tr>\n",
              "    <tr>\n",
              "      <th>89027</th>\n",
              "      <td>بابا جانم مریض می شوی</td>\n",
              "      <td>formal</td>\n",
              "    </tr>\n",
              "  </tbody>\n",
              "</table>\n",
              "<p>89028 rows × 2 columns</p>\n",
              "</div>\n",
              "    <div class=\"colab-df-buttons\">\n",
              "\n",
              "  <div class=\"colab-df-container\">\n",
              "    <button class=\"colab-df-convert\" onclick=\"convertToInteractive('df-4ccc20af-bb1e-499d-8bc3-8111ef8a543f')\"\n",
              "            title=\"Convert this dataframe to an interactive table.\"\n",
              "            style=\"display:none;\">\n",
              "\n",
              "  <svg xmlns=\"http://www.w3.org/2000/svg\" height=\"24px\" viewBox=\"0 -960 960 960\">\n",
              "    <path d=\"M120-120v-720h720v720H120Zm60-500h600v-160H180v160Zm220 220h160v-160H400v160Zm0 220h160v-160H400v160ZM180-400h160v-160H180v160Zm440 0h160v-160H620v160ZM180-180h160v-160H180v160Zm440 0h160v-160H620v160Z\"/>\n",
              "  </svg>\n",
              "    </button>\n",
              "\n",
              "  <style>\n",
              "    .colab-df-container {\n",
              "      display:flex;\n",
              "      gap: 12px;\n",
              "    }\n",
              "\n",
              "    .colab-df-convert {\n",
              "      background-color: #E8F0FE;\n",
              "      border: none;\n",
              "      border-radius: 50%;\n",
              "      cursor: pointer;\n",
              "      display: none;\n",
              "      fill: #1967D2;\n",
              "      height: 32px;\n",
              "      padding: 0 0 0 0;\n",
              "      width: 32px;\n",
              "    }\n",
              "\n",
              "    .colab-df-convert:hover {\n",
              "      background-color: #E2EBFA;\n",
              "      box-shadow: 0px 1px 2px rgba(60, 64, 67, 0.3), 0px 1px 3px 1px rgba(60, 64, 67, 0.15);\n",
              "      fill: #174EA6;\n",
              "    }\n",
              "\n",
              "    .colab-df-buttons div {\n",
              "      margin-bottom: 4px;\n",
              "    }\n",
              "\n",
              "    [theme=dark] .colab-df-convert {\n",
              "      background-color: #3B4455;\n",
              "      fill: #D2E3FC;\n",
              "    }\n",
              "\n",
              "    [theme=dark] .colab-df-convert:hover {\n",
              "      background-color: #434B5C;\n",
              "      box-shadow: 0px 1px 3px 1px rgba(0, 0, 0, 0.15);\n",
              "      filter: drop-shadow(0px 1px 2px rgba(0, 0, 0, 0.3));\n",
              "      fill: #FFFFFF;\n",
              "    }\n",
              "  </style>\n",
              "\n",
              "    <script>\n",
              "      const buttonEl =\n",
              "        document.querySelector('#df-4ccc20af-bb1e-499d-8bc3-8111ef8a543f button.colab-df-convert');\n",
              "      buttonEl.style.display =\n",
              "        google.colab.kernel.accessAllowed ? 'block' : 'none';\n",
              "\n",
              "      async function convertToInteractive(key) {\n",
              "        const element = document.querySelector('#df-4ccc20af-bb1e-499d-8bc3-8111ef8a543f');\n",
              "        const dataTable =\n",
              "          await google.colab.kernel.invokeFunction('convertToInteractive',\n",
              "                                                    [key], {});\n",
              "        if (!dataTable) return;\n",
              "\n",
              "        const docLinkHtml = 'Like what you see? Visit the ' +\n",
              "          '<a target=\"_blank\" href=https://colab.research.google.com/notebooks/data_table.ipynb>data table notebook</a>'\n",
              "          + ' to learn more about interactive tables.';\n",
              "        element.innerHTML = '';\n",
              "        dataTable['output_type'] = 'display_data';\n",
              "        await google.colab.output.renderOutput(dataTable, element);\n",
              "        const docLink = document.createElement('div');\n",
              "        docLink.innerHTML = docLinkHtml;\n",
              "        element.appendChild(docLink);\n",
              "      }\n",
              "    </script>\n",
              "  </div>\n",
              "\n",
              "\n",
              "<div id=\"df-cea1eecc-3e81-4d95-ac81-fae30c300d7f\">\n",
              "  <button class=\"colab-df-quickchart\" onclick=\"quickchart('df-cea1eecc-3e81-4d95-ac81-fae30c300d7f')\"\n",
              "            title=\"Suggest charts\"\n",
              "            style=\"display:none;\">\n",
              "\n",
              "<svg xmlns=\"http://www.w3.org/2000/svg\" height=\"24px\"viewBox=\"0 0 24 24\"\n",
              "     width=\"24px\">\n",
              "    <g>\n",
              "        <path d=\"M19 3H5c-1.1 0-2 .9-2 2v14c0 1.1.9 2 2 2h14c1.1 0 2-.9 2-2V5c0-1.1-.9-2-2-2zM9 17H7v-7h2v7zm4 0h-2V7h2v10zm4 0h-2v-4h2v4z\"/>\n",
              "    </g>\n",
              "</svg>\n",
              "  </button>\n",
              "\n",
              "<style>\n",
              "  .colab-df-quickchart {\n",
              "      --bg-color: #E8F0FE;\n",
              "      --fill-color: #1967D2;\n",
              "      --hover-bg-color: #E2EBFA;\n",
              "      --hover-fill-color: #174EA6;\n",
              "      --disabled-fill-color: #AAA;\n",
              "      --disabled-bg-color: #DDD;\n",
              "  }\n",
              "\n",
              "  [theme=dark] .colab-df-quickchart {\n",
              "      --bg-color: #3B4455;\n",
              "      --fill-color: #D2E3FC;\n",
              "      --hover-bg-color: #434B5C;\n",
              "      --hover-fill-color: #FFFFFF;\n",
              "      --disabled-bg-color: #3B4455;\n",
              "      --disabled-fill-color: #666;\n",
              "  }\n",
              "\n",
              "  .colab-df-quickchart {\n",
              "    background-color: var(--bg-color);\n",
              "    border: none;\n",
              "    border-radius: 50%;\n",
              "    cursor: pointer;\n",
              "    display: none;\n",
              "    fill: var(--fill-color);\n",
              "    height: 32px;\n",
              "    padding: 0;\n",
              "    width: 32px;\n",
              "  }\n",
              "\n",
              "  .colab-df-quickchart:hover {\n",
              "    background-color: var(--hover-bg-color);\n",
              "    box-shadow: 0 1px 2px rgba(60, 64, 67, 0.3), 0 1px 3px 1px rgba(60, 64, 67, 0.15);\n",
              "    fill: var(--button-hover-fill-color);\n",
              "  }\n",
              "\n",
              "  .colab-df-quickchart-complete:disabled,\n",
              "  .colab-df-quickchart-complete:disabled:hover {\n",
              "    background-color: var(--disabled-bg-color);\n",
              "    fill: var(--disabled-fill-color);\n",
              "    box-shadow: none;\n",
              "  }\n",
              "\n",
              "  .colab-df-spinner {\n",
              "    border: 2px solid var(--fill-color);\n",
              "    border-color: transparent;\n",
              "    border-bottom-color: var(--fill-color);\n",
              "    animation:\n",
              "      spin 1s steps(1) infinite;\n",
              "  }\n",
              "\n",
              "  @keyframes spin {\n",
              "    0% {\n",
              "      border-color: transparent;\n",
              "      border-bottom-color: var(--fill-color);\n",
              "      border-left-color: var(--fill-color);\n",
              "    }\n",
              "    20% {\n",
              "      border-color: transparent;\n",
              "      border-left-color: var(--fill-color);\n",
              "      border-top-color: var(--fill-color);\n",
              "    }\n",
              "    30% {\n",
              "      border-color: transparent;\n",
              "      border-left-color: var(--fill-color);\n",
              "      border-top-color: var(--fill-color);\n",
              "      border-right-color: var(--fill-color);\n",
              "    }\n",
              "    40% {\n",
              "      border-color: transparent;\n",
              "      border-right-color: var(--fill-color);\n",
              "      border-top-color: var(--fill-color);\n",
              "    }\n",
              "    60% {\n",
              "      border-color: transparent;\n",
              "      border-right-color: var(--fill-color);\n",
              "    }\n",
              "    80% {\n",
              "      border-color: transparent;\n",
              "      border-right-color: var(--fill-color);\n",
              "      border-bottom-color: var(--fill-color);\n",
              "    }\n",
              "    90% {\n",
              "      border-color: transparent;\n",
              "      border-bottom-color: var(--fill-color);\n",
              "    }\n",
              "  }\n",
              "</style>\n",
              "\n",
              "  <script>\n",
              "    async function quickchart(key) {\n",
              "      const quickchartButtonEl =\n",
              "        document.querySelector('#' + key + ' button');\n",
              "      quickchartButtonEl.disabled = true;  // To prevent multiple clicks.\n",
              "      quickchartButtonEl.classList.add('colab-df-spinner');\n",
              "      try {\n",
              "        const charts = await google.colab.kernel.invokeFunction(\n",
              "            'suggestCharts', [key], {});\n",
              "      } catch (error) {\n",
              "        console.error('Error during call to suggestCharts:', error);\n",
              "      }\n",
              "      quickchartButtonEl.classList.remove('colab-df-spinner');\n",
              "      quickchartButtonEl.classList.add('colab-df-quickchart-complete');\n",
              "    }\n",
              "    (() => {\n",
              "      let quickchartButtonEl =\n",
              "        document.querySelector('#df-cea1eecc-3e81-4d95-ac81-fae30c300d7f button');\n",
              "      quickchartButtonEl.style.display =\n",
              "        google.colab.kernel.accessAllowed ? 'block' : 'none';\n",
              "    })();\n",
              "  </script>\n",
              "</div>\n",
              "    </div>\n",
              "  </div>\n"
            ],
            "application/vnd.google.colaboratory.intrinsic+json": {
              "type": "dataframe",
              "variable_name": "percentile_list",
              "summary": "{\n  \"name\": \"percentile_list\",\n  \"rows\": 89028,\n  \"fields\": [\n    {\n      \"column\": \"text\",\n      \"properties\": {\n        \"dtype\": \"string\",\n        \"num_unique_values\": 88938,\n        \"samples\": [\n          \"\\u0646\\u0627\\u0632\\u0646\\u06cc\\u0646 \\u062c\\u0648\\u0646 \\u0627\\u06cc\\u0646 \\u062c\\u0627\\u06cc\\u06cc \\u06a9 \\u0631\\u0641\\u062a\\u06cc\\u0646 \\u06a9\\u062c\\u0627\\u0633 \\u0627\\u062e\\u0647 \\u062e\\u06cc\\u0644\\u06cc \\u0642\\u0634\\u0646\\u06af \\u0648 \\u0628\\u0627\\u0635\\u0641\\u0627\\u0633\",\n          \"\\u062e\\u0644\\u0627\\u0635\\u0647 \\u06cc\\u0647 \\u062d\\u0633\\u0627\\u0628 \\u062f\\u0648 \\u062f\\u0648 \\u062a\\u0627 \\u0686\\u0647\\u0627\\u0631 \\u062a\\u0627 \\u067e\\u06cc\\u0634 \\u062e\\u0648\\u062f\\u0645 \\u06a9\\u0631\\u062f\\u0645 \\u06a9\\u0647 \\u0645\\u06cc\\u0631\\u0645 \\u0634\\u0646\\u0627\",\n          \"\\u0645\\u0648\\u0642\\u0639\\u06cc \\u06a9 \\u062f\\u0627\\u062f \\u0645\\u06cc\\u0632\\u0646\\u0645 \\u06cc\\u0627 \\u0633\\u0631\\u0641\\u0647 \\u0645\\u06cc\\u06a9\\u0646\\u0645 \\u06cc\\u0627 \\u0645\\u06cc\\u062f\\u0648\\u0645 \\u0648 \\u062d\\u062a\\u06cc \\u062a\\u0648 \\u062d\\u0627\\u0644\\u062a \\u0639\\u0627\\u062f\\u06cc\\u0645 \\u0627\\u062f\\u0631\\u0627\\u0631\\u0645 \\u0645\\u06cc\\u0631\\u06cc\\u0632\\u0647\"\n        ],\n        \"semantic_type\": \"\",\n        \"description\": \"\"\n      }\n    },\n    {\n      \"column\": \"label\",\n      \"properties\": {\n        \"dtype\": \"category\",\n        \"num_unique_values\": 2,\n        \"samples\": [\n          \"formal\",\n          \"informal\"\n        ],\n        \"semantic_type\": \"\",\n        \"description\": \"\"\n      }\n    }\n  ]\n}"
            }
          },
          "metadata": {},
          "execution_count": 7
        }
      ]
    },
    {
      "cell_type": "code",
      "source": [
        "percentile_list['text'][:5]"
      ],
      "metadata": {
        "colab": {
          "base_uri": "https://localhost:8080/",
          "height": 241
        },
        "id": "7aaxiCpGYs0Q",
        "outputId": "29f29368-d7e4-4fb5-cbbe-6671974c5af3"
      },
      "execution_count": 8,
      "outputs": [
        {
          "output_type": "execute_result",
          "data": {
            "text/plain": [
              "0                       من دوس دارم برم خونه درس بخونم\n",
              "1           من دوست دارم که به خانه بروم تا درس بخوانم\n",
              "2               میتونی منو ببری خونمون یکم نون وردارم؟\n",
              "3    می توانی من را به خانه مان ببری تا کمی نان برد...\n",
              "4     رفتم درمونگاه واسه بچم دوا بگیرم، یهو بارون گرفت\n",
              "Name: text, dtype: object"
            ],
            "text/html": [
              "<div>\n",
              "<style scoped>\n",
              "    .dataframe tbody tr th:only-of-type {\n",
              "        vertical-align: middle;\n",
              "    }\n",
              "\n",
              "    .dataframe tbody tr th {\n",
              "        vertical-align: top;\n",
              "    }\n",
              "\n",
              "    .dataframe thead th {\n",
              "        text-align: right;\n",
              "    }\n",
              "</style>\n",
              "<table border=\"1\" class=\"dataframe\">\n",
              "  <thead>\n",
              "    <tr style=\"text-align: right;\">\n",
              "      <th></th>\n",
              "      <th>text</th>\n",
              "    </tr>\n",
              "  </thead>\n",
              "  <tbody>\n",
              "    <tr>\n",
              "      <th>0</th>\n",
              "      <td>من دوس دارم برم خونه درس بخونم</td>\n",
              "    </tr>\n",
              "    <tr>\n",
              "      <th>1</th>\n",
              "      <td>من دوست دارم که به خانه بروم تا درس بخوانم</td>\n",
              "    </tr>\n",
              "    <tr>\n",
              "      <th>2</th>\n",
              "      <td>میتونی منو ببری خونمون یکم نون وردارم؟</td>\n",
              "    </tr>\n",
              "    <tr>\n",
              "      <th>3</th>\n",
              "      <td>می توانی من را به خانه مان ببری تا کمی نان برد...</td>\n",
              "    </tr>\n",
              "    <tr>\n",
              "      <th>4</th>\n",
              "      <td>رفتم درمونگاه واسه بچم دوا بگیرم، یهو بارون گرفت</td>\n",
              "    </tr>\n",
              "  </tbody>\n",
              "</table>\n",
              "</div><br><label><b>dtype:</b> object</label>"
            ]
          },
          "metadata": {},
          "execution_count": 8
        }
      ]
    },
    {
      "cell_type": "code",
      "source": [
        "from sklearn.model_selection import train_test_split\n",
        "\n",
        "train_df, test_df = train_test_split(percentile_list, test_size=0.25, shuffle=True, random_state=23)\n",
        "print(train_df.shape[0])\n",
        "print(test_df.shape[0])"
      ],
      "metadata": {
        "colab": {
          "base_uri": "https://localhost:8080/"
        },
        "id": "iD_mTBMYVOCY",
        "outputId": "ee6b4081-6b7e-4b5a-c260-571e26e2fe30"
      },
      "execution_count": 16,
      "outputs": [
        {
          "output_type": "stream",
          "name": "stdout",
          "text": [
            "66771\n",
            "22257\n"
          ]
        }
      ]
    },
    {
      "cell_type": "code",
      "execution_count": 20,
      "metadata": {
        "id": "c0undNYsk8u2"
      },
      "outputs": [],
      "source": [
        "# Class probability\n",
        "def labelPredictions(Y):\n",
        "    labels = {}\n",
        "    total = len(Y)\n",
        "    for label in Y:\n",
        "        if label in labels:\n",
        "            labels[label] += 1\n",
        "        else:\n",
        "            labels[label] = 1\n",
        "\n",
        "    for i in labels:\n",
        "        val = labels[i]\n",
        "        labels[i] = val / total;\n",
        "    return labels\n",
        "\n",
        "def split_words(sentence):\n",
        "    words = re.sub(\"[^\\w]\", \" \",  sentence).split()\n",
        "    words = list(map(lambda x:x.lower(),words))\n",
        "    return words\n",
        "\n",
        "# The words in the sentence taken as parameters\n",
        "# taking it in a unique way and repeating the same word\n",
        "# we get it along with the number of times it is used in the sentence.\n",
        "def split_words_unique(sentence):\n",
        "    words = split_words(sentence)\n",
        "    _words = {}\n",
        "    for w in words:\n",
        "        if w not in _words:\n",
        "            _words[w] = 1\n",
        "        else:\n",
        "            _words[w] += 1\n",
        "    return _words\n",
        "\n",
        "def calculateVocabulary(X):\n",
        "    amount = 0\n",
        "    stack = []\n",
        "    for sentence in X:\n",
        "        words = split_words(sentence)\n",
        "        for w in words:\n",
        "            if w not in stack:\n",
        "                stack.append(w)\n",
        "                amount += 1\n",
        "    return amount\n",
        "\n",
        "def determineWordsCount(X):\n",
        "    count = 0\n",
        "\n",
        "    for sentence in X:\n",
        "        words = split_words(sentence)\n",
        "        for w in words:\n",
        "            count += 1\n",
        "\n",
        "    return count\n",
        "\n",
        "def getWordCountInClass(payload,word,c):\n",
        "    df = dataFrameForClass(payload,c)\n",
        "    sentences = df[payload['f_text']]\n",
        "    count = 0\n",
        "    for sentence in sentences:\n",
        "        words = split_words(sentence)\n",
        "        for w in words:\n",
        "            if w == word:\n",
        "                count += 1\n",
        "    return count\n",
        "\n",
        "def dataFrameForClass(payload,c):\n",
        "    return payload['X'].loc[payload['X'][payload['f_label']] == c]\n",
        "\n",
        "def getWordsCount(payload,c):\n",
        "    df = dataFrameForClass(payload,c)\n",
        "    return determineWordsCount(df[payload['f_text']])\n",
        "\n",
        "def fit(X,Y,f_text = 'text',f_label = 'label'):\n",
        "    payload = {};\n",
        "    # We get our total number of classes\n",
        "    payload['classes'] = set(Y)\n",
        "    # We get our class rates\n",
        "    payload['predictions'] = labelPredictions(Y)\n",
        "    payload['vocabulary'] = calculateVocabulary(X[f_text])\n",
        "    payload['X'] = X\n",
        "    payload['Y'] = Y\n",
        "    payload['f_text'] = f_text\n",
        "    payload['f_label'] = f_label\n",
        "    return payload\n",
        "\n",
        "def predict(payload,text):\n",
        "    # We get unique words in sentences\n",
        "    words = split_words_unique(text)\n",
        "    m_estimate = {}\n",
        "    for c in payload['classes']:\n",
        "        n = getWordsCount(payload,c)\n",
        "        m_estimate[c] = {}\n",
        "        for word in words:\n",
        "            force = words[word]\n",
        "            n_c = getWordCountInClass(payload,word,c)\n",
        "            # P(d|c) = (n_c + 1) / (n + vocabulary)\n",
        "            _estimate = (n_c + 1) / (n + payload['vocabulary'])\n",
        "            _estimate = math.pow(_estimate,force)\n",
        "            m_estimate[c][word] = _estimate\n",
        "    tags = {}\n",
        "\n",
        "    # Calculate according to each calculated class values\n",
        "    for c in payload['predictions']:\n",
        "        p = payload['predictions'][c]\n",
        "        m = np.prod(list(m_estimate[c].values()))\n",
        "        final = m * p\n",
        "        tags[c] = final\n",
        "    #print(tags)\n",
        "    # Among the last found tags\n",
        "    # We return the tag with the highest value.\n",
        "    # In this way, our label value is revealed.\n",
        "    return max(tags,key= lambda x: tags[x])"
      ]
    },
    {
      "cell_type": "code",
      "source": [
        "payload = fit(train_df,train_df['label'])\n",
        "test_sentences = test_df['text']\n",
        "test_labels = test_df['label']\n",
        "predictions = []\n",
        "for i in range(0, 1):\n",
        "  predictions.append(predict(payload, test_sentences.iloc[i]))"
      ],
      "metadata": {
        "id": "BhX1esqr3QER"
      },
      "execution_count": 21,
      "outputs": []
    },
    {
      "cell_type": "code",
      "source": [
        "inf_sent1 = ' برو دنبال کارت '\n",
        "label = predict(payload,inf_sent1)\n",
        "print(label)"
      ],
      "metadata": {
        "colab": {
          "base_uri": "https://localhost:8080/"
        },
        "id": "ArOmlbvpls01",
        "outputId": "c9bb2b8f-9977-4203-8ea4-a667b81377fe"
      },
      "execution_count": 22,
      "outputs": [
        {
          "output_type": "stream",
          "name": "stdout",
          "text": [
            "informal\n"
          ]
        }
      ]
    },
    {
      "cell_type": "code",
      "source": [
        "inf_sent1 = \"خدا شاهده\"\n",
        "label = predict(payload,inf_sent1)\n",
        "print(label)"
      ],
      "metadata": {
        "colab": {
          "base_uri": "https://localhost:8080/"
        },
        "id": "nqH0mZuQ77pF",
        "outputId": "8c1e8357-98a4-4d48-a9b5-df5fd89e1736"
      },
      "execution_count": 27,
      "outputs": [
        {
          "output_type": "stream",
          "name": "stdout",
          "text": [
            "informal\n"
          ]
        }
      ]
    },
    {
      "cell_type": "code",
      "source": [
        "inf_sent1 = 'من آماده هستم'\n",
        "label = predict(payload,inf_sent1)\n",
        "print(label)"
      ],
      "metadata": {
        "colab": {
          "base_uri": "https://localhost:8080/"
        },
        "id": "5Yn8597H8AxW",
        "outputId": "a2680a1a-0b9f-4f04-e63a-c7d4e5316b94"
      },
      "execution_count": 28,
      "outputs": [
        {
          "output_type": "stream",
          "name": "stdout",
          "text": [
            "formal\n"
          ]
        }
      ]
    },
    {
      "cell_type": "code",
      "source": [
        "inf_sent1 = 'چه بسیار مردمانی که'\n",
        "label = predict(payload,inf_sent1)\n",
        "print(label)"
      ],
      "metadata": {
        "colab": {
          "base_uri": "https://localhost:8080/"
        },
        "id": "XZszkr24AXQF",
        "outputId": "6ee3ed5a-07fc-4bc7-eb92-49bc536ce45f"
      },
      "execution_count": 35,
      "outputs": [
        {
          "output_type": "stream",
          "name": "stdout",
          "text": [
            "formal\n"
          ]
        }
      ]
    },
    {
      "cell_type": "code",
      "source": [
        "inf_sent1 = 'عشق منی'\n",
        "label = predict(payload,inf_sent1)\n",
        "print(label)"
      ],
      "metadata": {
        "colab": {
          "base_uri": "https://localhost:8080/"
        },
        "id": "2iIz49cGAeAF",
        "outputId": "fa328964-ecb7-49a9-9e5c-260703ea084d"
      },
      "execution_count": 36,
      "outputs": [
        {
          "output_type": "stream",
          "name": "stdout",
          "text": [
            "informal\n"
          ]
        }
      ]
    },
    {
      "cell_type": "code",
      "source": [
        "inf_sent1 = 'با توجه به آنچه مطالعه کردم'\n",
        "label = predict(payload,inf_sent1)\n",
        "print(label)"
      ],
      "metadata": {
        "colab": {
          "base_uri": "https://localhost:8080/"
        },
        "id": "PApKCZiVQ33z",
        "outputId": "1a904508-6b9d-4f8a-9940-f505ed648323"
      },
      "execution_count": 71,
      "outputs": [
        {
          "output_type": "stream",
          "name": "stdout",
          "text": [
            "formal\n"
          ]
        }
      ]
    },
    {
      "cell_type": "code",
      "source": [
        "inf_sent1 = 'سپاسگزارم'\n",
        "label = predict(payload,inf_sent1)\n",
        "print(label)"
      ],
      "metadata": {
        "colab": {
          "base_uri": "https://localhost:8080/"
        },
        "id": "VqUUrfrkRAC6",
        "outputId": "8389576c-e260-4740-9021-de84a11b2e5e"
      },
      "execution_count": 72,
      "outputs": [
        {
          "output_type": "stream",
          "name": "stdout",
          "text": [
            "informal\n"
          ]
        }
      ]
    },
    {
      "cell_type": "code",
      "source": [
        "inf_sent1 = 'بدرود'\n",
        "label = predict(payload,inf_sent1)\n",
        "print(label)"
      ],
      "metadata": {
        "colab": {
          "base_uri": "https://localhost:8080/"
        },
        "id": "vma321HUREND",
        "outputId": "89674feb-0b1d-4691-ba00-285f5114e928"
      },
      "execution_count": 73,
      "outputs": [
        {
          "output_type": "stream",
          "name": "stdout",
          "text": [
            "informal\n"
          ]
        }
      ]
    },
    {
      "cell_type": "code",
      "source": [
        "inf_sent1 = 'پیروز باشید'\n",
        "label = predict(payload,inf_sent1)\n",
        "print(label)"
      ],
      "metadata": {
        "colab": {
          "base_uri": "https://localhost:8080/"
        },
        "id": "9Qcm4dPpRHaZ",
        "outputId": "c4f75984-28f3-4124-9967-f999c7d4de6a"
      },
      "execution_count": 74,
      "outputs": [
        {
          "output_type": "stream",
          "name": "stdout",
          "text": [
            "formal\n"
          ]
        }
      ]
    },
    {
      "cell_type": "code",
      "source": [
        "inf_sent1 = 'راستشو بخوای'\n",
        "label = predict(payload,inf_sent1)\n",
        "print(label)"
      ],
      "metadata": {
        "colab": {
          "base_uri": "https://localhost:8080/"
        },
        "id": "efXN6BsrRJH5",
        "outputId": "12fe7397-4b90-46dd-fe5c-9a0f884460e9"
      },
      "execution_count": 75,
      "outputs": [
        {
          "output_type": "stream",
          "name": "stdout",
          "text": [
            "informal\n"
          ]
        }
      ]
    }
  ],
  "metadata": {
    "kernelspec": {
      "display_name": "Python 3",
      "name": "python3"
    },
    "language_info": {
      "codemirror_mode": {
        "name": "ipython",
        "version": 3
      },
      "file_extension": ".py",
      "mimetype": "text/x-python",
      "name": "python",
      "nbconvert_exporter": "python",
      "pygments_lexer": "ipython3",
      "version": "3.8.3"
    },
    "colab": {
      "provenance": [],
      "gpuType": "T4"
    },
    "accelerator": "GPU"
  },
  "nbformat": 4,
  "nbformat_minor": 0
}